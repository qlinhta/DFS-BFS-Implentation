{
 "cells": [
  {
   "cell_type": "code",
   "execution_count": 1,
   "metadata": {},
   "outputs": [],
   "source": [
    "numberNodes = 5\n",
    "edges = [(0, 1), (0, 4), (1, 2), (1, 3), (1, 4), (2, 3), (3, 4)]"
   ]
  },
  {
   "cell_type": "code",
   "execution_count": 2,
   "metadata": {},
   "outputs": [
    {
     "data": {
      "text/plain": [
       "(5, 7)"
      ]
     },
     "execution_count": 2,
     "metadata": {},
     "output_type": "execute_result"
    }
   ],
   "source": [
    "num_nodes1 = 5\n",
    "edges1 = [(0, 1), (1, 2), (2, 3), (3, 4), (4, 0), (1, 4), (1, 3)]\n",
    "num_nodes1, len(edges1)"
   ]
  },
  {
   "cell_type": "code",
   "execution_count": 3,
   "metadata": {},
   "outputs": [
    {
     "data": {
      "text/plain": [
       "(9, 8)"
      ]
     },
     "execution_count": 3,
     "metadata": {},
     "output_type": "execute_result"
    }
   ],
   "source": [
    "num_nodes3 = 9\n",
    "edges3 = [(0, 1), (0, 3), (1, 2), (2, 3), (4, 5), (4, 6), (5, 6), (7, 8)]\n",
    "num_nodes3, len(edges3)"
   ]
  },
  {
   "cell_type": "code",
   "execution_count": 4,
   "metadata": {},
   "outputs": [
    {
     "data": {
      "text/plain": [
       "(9, 10)"
      ]
     },
     "execution_count": 4,
     "metadata": {},
     "output_type": "execute_result"
    }
   ],
   "source": [
    "num_nodes5 = 9\n",
    "edges5 = [(0, 1, 3), (0, 3, 2), (0, 8, 4), (1, 7, 4), (2, 7, 2), (2, 3, 6), \n",
    "          (2, 5, 1), (3, 4, 1), (4, 8, 8), (5, 6, 8)]\n",
    "\n",
    "num_nodes5, len(edges5)"
   ]
  },
  {
   "cell_type": "code",
   "execution_count": 5,
   "metadata": {},
   "outputs": [
    {
     "data": {
      "text/plain": [
       "(5, 6)"
      ]
     },
     "execution_count": 5,
     "metadata": {},
     "output_type": "execute_result"
    }
   ],
   "source": [
    "# Directed graph\n",
    "num_nodes6 = 5\n",
    "edges6 = [(0, 1), (1, 2), (2, 3), (2, 4), (4, 2), (3, 0)]\n",
    "num_nodes6, len(edges6)"
   ]
  },
  {
   "cell_type": "code",
   "execution_count": 6,
   "metadata": {},
   "outputs": [
    {
     "data": {
      "text/plain": [
       "(6, 7)"
      ]
     },
     "execution_count": 6,
     "metadata": {},
     "output_type": "execute_result"
    }
   ],
   "source": [
    "num_nodes7 = 6\n",
    "edges7 = [(0, 1, 4), (0, 2, 2), (1, 2, 5), (1, 3, 10), (2, 4, 3), (4, 3, 4), (3, 5, 11)]\n",
    "num_nodes7, len(edges7)"
   ]
  },
  {
   "cell_type": "code",
   "execution_count": 7,
   "metadata": {},
   "outputs": [
    {
     "data": {
      "text/plain": [
       "(5, [(0, 1), (0, 4), (1, 2), (1, 3), (1, 4), (2, 3), (3, 4)])"
      ]
     },
     "execution_count": 7,
     "metadata": {},
     "output_type": "execute_result"
    }
   ],
   "source": [
    "numberNodes, edges"
   ]
  },
  {
   "cell_type": "code",
   "execution_count": 8,
   "metadata": {},
   "outputs": [
    {
     "data": {
      "text/plain": [
       "(5, 7)"
      ]
     },
     "execution_count": 8,
     "metadata": {},
     "output_type": "execute_result"
    }
   ],
   "source": [
    "numberNodes, len(edges)"
   ]
  },
  {
   "cell_type": "code",
   "execution_count": 9,
   "metadata": {},
   "outputs": [
    {
     "data": {
      "text/plain": [
       "[[], [], [], [], [], [], [], [], [], []]"
      ]
     },
     "execution_count": 9,
     "metadata": {},
     "output_type": "execute_result"
    }
   ],
   "source": [
    "list2 = [[] for _ in range(10)]\n",
    "list2"
   ]
  },
  {
   "cell_type": "code",
   "execution_count": 10,
   "metadata": {},
   "outputs": [],
   "source": [
    "class Graph:\n",
    "    def __init__(self, num_nodes, edges):\n",
    "        self.data = [[] for _ in range(num_nodes)]\n",
    "        for v1, v2 in edges:\n",
    "            self.data[v1].append(v2)\n",
    "            self.data[v2].append(v1)\n",
    "            \n",
    "    def __repr__(self):\n",
    "        return \"\\n\".join([\"{} : {}\".format(i, neighbors) for (i, neighbors) in enumerate(self.data)])\n",
    "\n",
    "    def __str__(self):\n",
    "        return repr(self)"
   ]
  },
  {
   "cell_type": "code",
   "execution_count": 11,
   "metadata": {},
   "outputs": [],
   "source": [
    "g1 = Graph(num_nodes1, edges1)"
   ]
  },
  {
   "cell_type": "code",
   "execution_count": 12,
   "metadata": {},
   "outputs": [],
   "source": [
    "graph1 = Graph(numberNodes, edges)"
   ]
  },
  {
   "cell_type": "code",
   "execution_count": 13,
   "metadata": {},
   "outputs": [
    {
     "data": {
      "text/plain": [
       "['0 : [1, 4]',\n",
       " '1 : [0, 2, 3, 4]',\n",
       " '2 : [1, 3]',\n",
       " '3 : [1, 2, 4]',\n",
       " '4 : [0, 1, 3]']"
      ]
     },
     "execution_count": 13,
     "metadata": {},
     "output_type": "execute_result"
    }
   ],
   "source": [
    "[\"{} : {}\".format(n, neighbors) for (n , neighbors) in enumerate(graph1.data)]"
   ]
  },
  {
   "cell_type": "code",
   "execution_count": 14,
   "metadata": {},
   "outputs": [
    {
     "name": "stdout",
     "output_type": "stream",
     "text": [
      "0 5\n",
      "1 3\n",
      "2 4\n",
      "3 1\n"
     ]
    }
   ],
   "source": [
    "for i, value in enumerate([5, 3, 4, 1]) :\n",
    "    print(i, value)"
   ]
  },
  {
   "cell_type": "markdown",
   "metadata": {},
   "source": [
    "### Adjacency Matrix\n",
    "\n",
    "![](https://i.imgur.com/oswYKTW.png)\n",
    "\n",
    "> **Question**: Represent a graph as an adjacency matrix in Python"
   ]
  },
  {
   "cell_type": "markdown",
   "metadata": {},
   "source": [
    "### Breadth First Search\n",
    "\n",
    "Complexity $O(m + n)$"
   ]
  },
  {
   "cell_type": "code",
   "execution_count": 15,
   "metadata": {},
   "outputs": [],
   "source": [
    "def bfs(graph, source):\n",
    "    visited = [False] * len(graph.data)\n",
    "    queue = []\n",
    "    \n",
    "    visited[source] = True    \n",
    "    queue.append(source)\n",
    "    i = 0\n",
    "    \n",
    "    while i < len(queue):\n",
    "        for v in graph.data[queue[i]]:\n",
    "            if not visited[v]:\n",
    "                visited[v] = True\n",
    "                queue.append(v)\n",
    "        i += 1\n",
    "    \n",
    "    return queue"
   ]
  },
  {
   "cell_type": "markdown",
   "metadata": {},
   "source": [
    "### Depth First Search"
   ]
  },
  {
   "cell_type": "code",
   "execution_count": 16,
   "metadata": {},
   "outputs": [],
   "source": [
    "def dfs(graph, source):\n",
    "    visited = [False] * len(graph.data)\n",
    "    stack = [source]\n",
    "    result = []\n",
    "    \n",
    "    while len(stack) > 0:\n",
    "        current = stack.pop()\n",
    "        if not visited[current]:\n",
    "            result.append(current)\n",
    "            visited[current] = True\n",
    "            for v in graph.data[current]:\n",
    "                stack.append(v)\n",
    "                \n",
    "    return result"
   ]
  },
  {
   "cell_type": "code",
   "execution_count": 26,
   "metadata": {},
   "outputs": [
    {
     "data": {
      "text/plain": [
       "[1, 0, 2, 4, 3]"
      ]
     },
     "execution_count": 26,
     "metadata": {},
     "output_type": "execute_result"
    }
   ],
   "source": [
    "bfs(g1, 1)"
   ]
  },
  {
   "cell_type": "code",
   "execution_count": 27,
   "metadata": {},
   "outputs": [
    {
     "data": {
      "text/plain": [
       "[0, 4, 1, 3, 2]"
      ]
     },
     "execution_count": 27,
     "metadata": {},
     "output_type": "execute_result"
    }
   ],
   "source": [
    "dfs(g1, 0)"
   ]
  },
  {
   "cell_type": "markdown",
   "metadata": {},
   "source": [
    "### Directed and Weighted Graph"
   ]
  },
  {
   "cell_type": "code",
   "execution_count": 17,
   "metadata": {},
   "outputs": [],
   "source": [
    "class Graph:\n",
    "    def __init__(self, num_nodes, edges, directed=False):\n",
    "        self.data = [[] for _ in range(num_nodes)]\n",
    "        self.weight = [[] for _ in range(num_nodes)]\n",
    "        \n",
    "        self.directed = directed\n",
    "        self.weighted = len(edges) > 0 and len(edges[0]) == 3\n",
    "            \n",
    "        for e in edges:\n",
    "            self.data[e[0]].append(e[1])\n",
    "            if self.weighted:\n",
    "                self.weight[e[0]].append(e[2])\n",
    "            \n",
    "            if not directed:\n",
    "                self.data[e[1]].append(e[0])\n",
    "                if self.weighted:\n",
    "                    self.data[e[1]].append(e[2])\n",
    "                \n",
    "    def __repr__(self):\n",
    "        result = \"\"\n",
    "        for i in range(len(self.data)):\n",
    "            pairs = list(zip(self.data[i], self.weight[i]))\n",
    "            result += \"{}: {}\\n\".format(i, pairs)\n",
    "        return result\n",
    "\n",
    "    def __str__(self):\n",
    "        return repr(self)"
   ]
  },
  {
   "cell_type": "markdown",
   "metadata": {},
   "source": [
    "### Binary Heap\n",
    "\n",
    "A data structure to maintain the running minimum/maximum of a set of numbers, supporting efficient addition/removal.\n",
    "\n",
    "\n",
    "<img src=\"https://i.imgur.com/ABAcM7m.png\" width=\"400\">\n",
    "\n",
    "\n",
    "Heap operations:\n",
    "\n",
    "- Insertion - $O(log N)$\n",
    "- Min/Max - $O(1)$ (depending on type of heap)\n",
    "- Deletion - $O(log N)$\n",
    "- Convert a list to a heap - $O(n)$\n",
    "\n",
    "\n",
    "Python's built-in heap: https://docs.python.org/3/library/heapq.html"
   ]
  },
  {
   "cell_type": "markdown",
   "metadata": {},
   "source": [
    "### Shortest Path - Dijkstra's Algorithm"
   ]
  },
  {
   "cell_type": "code",
   "execution_count": 18,
   "metadata": {},
   "outputs": [],
   "source": [
    "def update_distances(graph, current, distance, parent=None):\n",
    "    \"\"\"Update the distances of the current node's neighbors\"\"\"\n",
    "    neighbors = graph.data[current]\n",
    "    weights = graph.weight[current]\n",
    "    for i, node in enumerate(neighbors):\n",
    "        weight = weights[i]\n",
    "        if distance[current] + weight < distance[node]:\n",
    "            distance[node] = distance[current] + weight\n",
    "            if parent:\n",
    "                parent[node] = current\n",
    "\n",
    "def pick_next_node(distance, visited):\n",
    "    \"\"\"Pick the next univisited node at the smallest distance\"\"\"\n",
    "    min_distance = float('inf')\n",
    "    min_node = None\n",
    "    for node in range(len(distance)):\n",
    "        if not visited[node] and distance[node] < min_distance:\n",
    "            min_node = node\n",
    "            min_distance = distance[node]\n",
    "    return min_node\n",
    "        \n",
    "def shortest_path(graph, source, dest):\n",
    "    \"\"\"Find the length of the shortest path between source and destination\"\"\"\n",
    "    visited = [False] * len(graph.data)\n",
    "    distance = [float('inf')] * len(graph.data)\n",
    "    parent = [None] * len(graph.data)\n",
    "    queue = []\n",
    "    idx = 0\n",
    "    \n",
    "    queue.append(source)\n",
    "    distance[source] = 0\n",
    "    visited[source] = True\n",
    "    \n",
    "    while idx < len(queue) and not visited[dest]:\n",
    "        current = queue[idx]\n",
    "        update_distances(graph, current, distance, parent)\n",
    "        \n",
    "        next_node = pick_next_node(distance, visited)\n",
    "        if next_node is not None:\n",
    "            visited[next_node] = True\n",
    "            queue.append(next_node)\n",
    "        idx += 1\n",
    "        \n",
    "    return distance[dest], distance, parent"
   ]
  },
  {
   "cell_type": "code",
   "execution_count": 20,
   "metadata": {},
   "outputs": [],
   "source": [
    "g7 = Graph(num_nodes7, edges7, directed=True)"
   ]
  },
  {
   "cell_type": "code",
   "execution_count": 21,
   "metadata": {},
   "outputs": [
    {
     "data": {
      "text/plain": [
       "(20, [0, 4, 2, 9, 5, 20], [None, 0, 0, 4, 2, 3])"
      ]
     },
     "execution_count": 21,
     "metadata": {},
     "output_type": "execute_result"
    }
   ],
   "source": [
    "shortest_path(g7, 0, 5)"
   ]
  },
  {
   "cell_type": "code",
   "execution_count": null,
   "metadata": {},
   "outputs": [],
   "source": []
  }
 ],
 "metadata": {
  "kernelspec": {
   "display_name": "Python 3",
   "language": "python",
   "name": "python3"
  },
  "language_info": {
   "codemirror_mode": {
    "name": "ipython",
    "version": 3
   },
   "file_extension": ".py",
   "mimetype": "text/x-python",
   "name": "python",
   "nbconvert_exporter": "python",
   "pygments_lexer": "ipython3",
   "version": "3.8.5"
  }
 },
 "nbformat": 4,
 "nbformat_minor": 4
}
