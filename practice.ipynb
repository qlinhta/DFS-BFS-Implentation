{
 "cells": [
  {
   "cell_type": "code",
   "execution_count": 37,
   "metadata": {},
   "outputs": [],
   "source": [
    "visited = set()\n",
    "waitingLine = set()\n",
    "queue = []"
   ]
  },
  {
   "cell_type": "code",
   "execution_count": 38,
   "metadata": {},
   "outputs": [],
   "source": [
    "def dfs(waitingLine, graph, node):\n",
    "    if node not in waitingLine:\n",
    "        waitingLine.add(node)\n",
    "        print(node + ': visited by DFS')\n",
    "        for neighbour in graph[node]:\n",
    "            dfs(waitingLine, graph, neighbour)"
   ]
  },
  {
   "cell_type": "code",
   "execution_count": 39,
   "metadata": {},
   "outputs": [],
   "source": [
    "def bfs(visited, graph, node):\n",
    "    visited.add(node)\n",
    "    queue.append(node)\n",
    "    \n",
    "    while queue:\n",
    "        visitedNode = queue.pop(0)\n",
    "        print(visitedNode + ': visited by BFS')\n",
    "        \n",
    "        for neighbour in graph[visitedNode]:\n",
    "            if neighbour not in visited:\n",
    "                visited.add(neighbour)\n",
    "                queue.append(neighbour)"
   ]
  },
  {
   "cell_type": "code",
   "execution_count": 40,
   "metadata": {},
   "outputs": [],
   "source": [
    "graph = {\n",
    "    '5' : ['3','7'],\n",
    "    '3' : ['2', '4'],\n",
    "    '7' : ['8'],\n",
    "    '2' : [],\n",
    "    '4' : ['8'],\n",
    "    '8' : []\n",
    "}"
   ]
  },
  {
   "cell_type": "code",
   "execution_count": 41,
   "metadata": {},
   "outputs": [
    {
     "name": "stdout",
     "output_type": "stream",
     "text": [
      "5: visited by BFS\n",
      "3: visited by BFS\n",
      "7: visited by BFS\n",
      "2: visited by BFS\n",
      "4: visited by BFS\n",
      "8: visited by BFS\n"
     ]
    }
   ],
   "source": [
    "bfs(visited, graph, '5')"
   ]
  },
  {
   "cell_type": "code",
   "execution_count": 42,
   "metadata": {},
   "outputs": [
    {
     "name": "stdout",
     "output_type": "stream",
     "text": [
      "5: visited by DFS\n",
      "3: visited by DFS\n",
      "2: visited by DFS\n",
      "4: visited by DFS\n",
      "8: visited by DFS\n",
      "7: visited by DFS\n"
     ]
    }
   ],
   "source": [
    "dfs(waitingLine, graph, '5')"
   ]
  },
  {
   "cell_type": "code",
   "execution_count": null,
   "metadata": {},
   "outputs": [],
   "source": []
  }
 ],
 "metadata": {
  "kernelspec": {
   "display_name": "Python 3",
   "language": "python",
   "name": "python3"
  },
  "language_info": {
   "codemirror_mode": {
    "name": "ipython",
    "version": 3
   },
   "file_extension": ".py",
   "mimetype": "text/x-python",
   "name": "python",
   "nbconvert_exporter": "python",
   "pygments_lexer": "ipython3",
   "version": "3.8.5"
  }
 },
 "nbformat": 4,
 "nbformat_minor": 4
}
